{
 "cells": [
  {
   "cell_type": "code",
   "execution_count": 5,
   "id": "094a0245-bf15-4dbb-8180-8a3a26c205b7",
   "metadata": {},
   "outputs": [
    {
     "data": {
      "image/png": "[encoded data removed]",
      "text/plain": [
       "<Figure size 432x288 with 1 Axes>"
      ]
     },
     "metadata": {
      "needs_background": "light"
     },
     "output_type": "display_data"
    }
   ],
   "source": [
    "##### orbits are functions in two variables, x, y\n",
    "\n",
    "#We will have 8 variables: x,y,xv,yv for both objects.\n",
    "#in order, we have [x1,y1,xv1,yv1]\n",
    "#[x2,y2,xv2,yv2]\n",
    "#initialise with velocities perpendicular to a perfect circle, for eccentricity = 0:\n",
    "# We need keplerian velocity: sqrt(gm^2/r)\n",
    "\n",
    "\n",
    "#Start from R-K in lecture 7-1\n",
    "import numpy as np\n",
    "import matplotlib.pyplot as plt\n",
    "\n",
    "G=1.\n",
    "M=1.\n",
    "tend=200.*np.pi #for 100 orbits\n",
    "h=0.01\n",
    "t=0\n",
    "#given G = M = 1, r_initial = .5 away from centre of gravity, initial Keplerian velocity is .5\n",
    "#in order to cause a change, we need to perturb away from .5\n",
    "y1=[.5,0.,0.,.5]\n",
    "y2=[-.5,0.,0.,-.5]\n",
    "#modify to take r parameter\n",
    "def f(t, y, r):\n",
    "    f=np.zeros(4)\n",
    "    #r=np.sqrt(y[0]*y[0]+y[2]*y[2])\n",
    "    f[0]=y[1]\n",
    "    f[1]=-G*M/r/r/r*y[0]\n",
    "    f[2]=y[3]\n",
    "    f[3]=-G*M/r/r/r*y[2]\n",
    "    return f\n",
    "\n",
    "#we will use this twice\n",
    "#modify to include an r input parameter, to capture the linking between the \n",
    "def rk4(t, h, y, r, n):\n",
    "    k1 = np.zeros(n)\n",
    "    k2 = np.zeros(n)\n",
    "    k3 = np.zeros(n)\n",
    "    k4 = np.zeros(n)\n",
    "    k1=h*f(t,y,r)\n",
    "    k2=h*f(t+0.5*h,y+0.5*k1,r)\n",
    "    k3=h*f(t+.5*h,y+.5*k2,r)\n",
    "    k4=h*f(t+h,y+k3,r)\n",
    "    y+=(1/6)*(k1+2*k2+2*k3+k4)\n",
    "    return y\n",
    "\n",
    "xp1=[]\n",
    "yp1=[]\n",
    "xp2=[]\n",
    "yp2=[]\n",
    "while(t<tend):\n",
    "     \n",
    "    r = np.sqrt(((y1[0]-y2[0])**2)+((y1[2]-y2[2])**2))\n",
    "    #print('r is ',r)\n",
    "    if((t+h)<tend):\n",
    "        #h=tend-t\n",
    "        y1 = rk4(t,h,y1,r,4)\n",
    "        y2 = rk4(t,h,y2,r,4)\n",
    "\n",
    "    xp2=np.append(xp2,y2[0])\n",
    "    yp2=np.append(yp2,y2[2])\n",
    "    xp1=np.append(xp1,y1[0])\n",
    "    yp1=np.append(yp1,y1[2])\n",
    "    if xp1[-1]<-1:\n",
    "        print(y1)\n",
    "        break\n",
    "    t = t+h\n",
    "fig = plt.figure()\n",
    "\n",
    "plt.plot(xp1,yp1)\n",
    "plt.plot(xp2,yp2)\n",
    "plt.show()"
   ]
  },
  {
   "cell_type": "code",
   "execution_count": null,
   "id": "90520b5c-81e3-403f-baa3-18e412d8860f",
   "metadata": {},
   "outputs": [],
   "source": []
  }
 ],
 "metadata": {
  "kernelspec": {
   "display_name": "Python 3 (ipykernel)",
   "language": "python",
   "name": "python3"
  },
  "language_info": {
   "codemirror_mode": {
    "name": "ipython",
    "version": 3
   },
   "file_extension": ".py",
   "mimetype": "text/x-python",
   "name": "python",
   "nbconvert_exporter": "python",
   "pygments_lexer": "ipython3",
   "version": "3.8.10"
  }
 },
 "nbformat": 4,
 "nbformat_minor": 5
}
