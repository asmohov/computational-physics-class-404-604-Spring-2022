{
 "cells": [
  {
   "cell_type": "code",
   "execution_count": 26,
   "id": "ed827d27-77e1-416f-b3ab-678708554e36",
   "metadata": {},
   "outputs": [
    {
     "name": "stdout",
     "output_type": "stream",
     "text": [
      "-1.1102230246251565\n",
      "-0.7771561172376095\n",
      "-0.7105427357601002\n",
      "-0.7072120666862247\n",
      "-0.7071010443837622\n",
      "-0.7071121466140085\n",
      "-0.7071065954988853\n",
      "-0.7071068175434903\n",
      "-0.7071067953390298\n",
      "-0.7071068164332672\n",
      "-0.7071071347342084\n",
      "-0.7071103167111125\n",
      "-0.707142135347727\n",
      "-0.7074602166965427\n",
      "-0.7106305005757041\n",
      "-0.741254745095894\n"
     ]
    },
    {
     "data": {
      "text/plain": [
       "[<matplotlib.lines.Line2D at 0x7fe2b8599cd0>]"
      ]
     },
     "execution_count": 26,
     "metadata": {},
     "output_type": "execute_result"
    },
    {
     "data": {
      "image/png": "[encoded data removed]",
      "text/plain": [
       "<Figure size 432x288 with 1 Axes>"
      ]
     },
     "metadata": {
      "needs_background": "light"
     },
     "output_type": "display_data"
    }
   ],
   "source": [
    "#1.\n",
    "import numpy as np\n",
    "from matplotlib import pylab as plt\n",
    "\n",
    "#forward difference taken from lecture\n",
    "def derifw(y,x,dx):\n",
    "    return (y(x+dx)-y(x))/dx\n",
    "\n",
    "#central difference taken from lecture\n",
    "def dericd(y,x,dx):\n",
    "    return (y(x+dx/2)-(y(x-dx/2)))/dx\n",
    "\n",
    "def log_array(n): #return decreasing logarithmic array of powers of 10, up to 1e-n\n",
    "    ans = []\n",
    "    for i in range(n,0,-1): #don't include 0\n",
    "        ans.append(10**(-1*i))\n",
    "    return ans\n",
    "\n",
    "dx_vals = log_array(16)\n",
    "\n",
    "#analytically, derivative of cos is -sin\n",
    "\n",
    "#calculate derivative at pi/4 with fwd difference, then add the error to the plotting array\n",
    "y_vals = []\n",
    "\n",
    "for dx in dx_vals:\n",
    "    num=derifw(np.cos,(np.pi/4),dx)\n",
    "    print(num)\n",
    "    y_vals.append(np.abs(num+np.sin(np.pi/4)))\n",
    "plt.loglog(dx_vals,y_vals)"
   ]
  },
  {
   "cell_type": "markdown",
   "id": "103a5496-4a80-43b7-bd9a-197ba45b14b4",
   "metadata": {},
   "source": [
    "Error takes the form of dx^n where n=1, when dx > 1e-8, and n approximately = -1, when dx < 1e-8"
   ]
  },
  {
   "cell_type": "code",
   "execution_count": 27,
   "id": "7e09ce7e-d68a-4fbd-abc0-111b82058b13",
   "metadata": {},
   "outputs": [
    {
     "name": "stdout",
     "output_type": "stream",
     "text": [
      "0.0\n",
      "-0.7771561172376095\n",
      "-0.7105427357601002\n",
      "-0.7061018436615996\n",
      "-0.7072120666862247\n",
      "-0.7071010443837622\n",
      "-0.7071065954988853\n",
      "-0.7071068175434903\n",
      "-0.7071067731345693\n",
      "-0.7071067820163535\n",
      "-0.707106781128175\n",
      "-0.7071067811836861\n",
      "-0.7071067808916975\n",
      "-0.7071067517236962\n",
      "-0.7071038349119707\n",
      "-0.7068121901873403\n"
     ]
    },
    {
     "data": {
      "text/plain": [
       "[<matplotlib.lines.Line2D at 0x7fe2b62d02e0>]"
      ]
     },
     "execution_count": 27,
     "metadata": {},
     "output_type": "execute_result"
    },
    {
     "data": {
      "image/png": "[encoded data removed]",
      "text/plain": [
       "<Figure size 432x288 with 1 Axes>"
      ]
     },
     "metadata": {
      "needs_background": "light"
     },
     "output_type": "display_data"
    }
   ],
   "source": [
    "#2. Same code as before but using central difference now\n",
    "import numpy as np\n",
    "from matplotlib import pylab as plt\n",
    "\n",
    "#forward difference taken from lecture\n",
    "def derifw(y,x,dx):\n",
    "    return (y(x+dx)-y(x))/dx\n",
    "\n",
    "#central difference taken from lecture\n",
    "def dericd(y,x,dx):\n",
    "    return (y(x+dx/2)-(y(x-dx/2)))/dx\n",
    "\n",
    "def log_array(n): #return decreasing logarithmic array of powers of 10, up to 1e-n\n",
    "    ans = []\n",
    "    for i in range(n,0,-1): #don't include 0\n",
    "        ans.append(10**(-1*i))\n",
    "    return ans\n",
    "\n",
    "dx_vals = log_array(16)\n",
    "\n",
    "#analytically, derivative of cos is -sin\n",
    "\n",
    "#calculate derivative at pi/4 with fwd difference, then add the error to the plotting array\n",
    "y_vals = []\n",
    "\n",
    "for dx in dx_vals:\n",
    "    num=dericd(np.cos,(np.pi/4),dx)\n",
    "    print(num)\n",
    "    y_vals.append(np.abs(num+np.sin(np.pi/4)))\n",
    "plt.loglog(dx_vals,y_vals)"
   ]
  },
  {
   "cell_type": "markdown",
   "id": "20816e39-ac19-4949-aa10-af036b6849c5",
   "metadata": {},
   "source": [
    "Here the error goes as dx^n where n = 2 for dx > 1e-5 and n = -2 for dx < 1e-5. This scheme is better because the overall error is much lower, and also the lowest error occurs at a higher dx. This enambles more accurate numerical methods whilst also lowering computational costs."
   ]
  },
  {
   "cell_type": "code",
   "execution_count": 1,
   "id": "46932b7f-033f-4d3a-aad1-23229c8e2f38",
   "metadata": {},
   "outputs": [
    {
     "data": {
      "text/plain": [
       "[<matplotlib.lines.Line2D at 0x7fe3702d4730>]"
      ]
     },
     "execution_count": 1,
     "metadata": {},
     "output_type": "execute_result"
    },
    {
     "name": "stderr",
     "output_type": "stream",
     "text": [
      "/home/asmohov/.local/lib/python3.8/site-packages/matplotlib_inline/backend_inline.py:234: UserWarning: Data has no positive values, and therefore cannot be log-scaled.\n",
      "  for label in axis.get_ticklabels()])\n"
     ]
    },
    {
     "data": {
      "image/png": "[encoded data removed]",
      "text/plain": [
       "<Figure size 432x288 with 1 Axes>"
      ]
     },
     "metadata": {
      "needs_background": "light"
     },
     "output_type": "display_data"
    }
   ],
   "source": [
    "#3. Same code as before but using x=0 now\n",
    "import numpy as np\n",
    "from matplotlib import pylab as plt\n",
    "\n",
    "#forward difference taken from lecture\n",
    "def derifw(y,x,dx):\n",
    "    return (y(x+dx)-y(x))/dx\n",
    "\n",
    "#central difference taken from lecture\n",
    "def dericd(y,x,dx):\n",
    "    return (y(x+dx/2)-(y(x-dx/2)))/dx\n",
    "\n",
    "def log_array(n): #return decreasing logarithmic array of powers of 10, up to 1e-n\n",
    "    ans = []\n",
    "    for i in range(n,0,-1): #don't include 0\n",
    "        ans.append(10**(-1*i))\n",
    "    return ans\n",
    "\n",
    "dx_vals = log_array(16)\n",
    "\n",
    "#analytically, derivative of cos is -sin\n",
    "\n",
    "#calculate derivative at pi/4 with fwd difference, then add the error to the plotting array\n",
    "y_vals = []\n",
    "\n",
    "for dx in dx_vals:\n",
    "    num=dericd(np.cos,(0),dx)\n",
    "    \n",
    "    y_vals.append(np.abs(num+np.sin(0)))\n",
    "plt.loglog(dx_vals,y_vals)"
   ]
  },
  {
   "cell_type": "markdown",
   "id": "aa7f8a24-eba1-4045-a986-4e162ec9696f",
   "metadata": {},
   "source": [
    "Here the error term becomes very close to subtractino of two extremely small numbers, as the derivative of cos() goes to 0 at x = 0. As derived in class, the error term also goes as y''', which for cos() is +sin(). This goes to 0 at 0. Therefore we have no positive values that we can plot on a log-log scale, as shown by the output error. "
   ]
  }
 ],
 "metadata": {
  "kernelspec": {
   "display_name": "Python 3 (ipykernel)",
   "language": "python",
   "name": "python3"
  },
  "language_info": {
   "codemirror_mode": {
    "name": "ipython",
    "version": 3
   },
   "file_extension": ".py",
   "mimetype": "text/x-python",
   "name": "python",
   "nbconvert_exporter": "python",
   "pygments_lexer": "ipython3",
   "version": "3.8.10"
  }
 },
 "nbformat": 4,
 "nbformat_minor": 5
}
