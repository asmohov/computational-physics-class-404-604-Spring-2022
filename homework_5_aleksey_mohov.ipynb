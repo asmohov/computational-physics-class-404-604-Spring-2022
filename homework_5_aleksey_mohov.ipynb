{
 "cells": [
  {
   "cell_type": "code",
   "execution_count": 6,
   "id": "7ff857e4-95ef-4e59-93d2-3993650d2005",
   "metadata": {},
   "outputs": [
    {
     "name": "stdout",
     "output_type": "stream",
     "text": [
      "Root is at 2.000000247828663 , 2.999999132633207  after  3  iterations, with a precision of  2.540126369510176e-05\n"
     ]
    }
   ],
   "source": [
    "#Homework 5\n",
    "#Aleksey Mohov\n",
    "#initial framework taken from lecture 5\n",
    "\n",
    "import matplotlib.pyplot as plt\n",
    "import numpy as np\n",
    "\n",
    "\n",
    "def f1(x1,x2):\n",
    "    return (x1*x1+x1*x2-10.)\n",
    "\n",
    "def f2(x1,x2):\n",
    "    return (x2+3*x1*x2*x2-57)\n",
    "\n",
    "def f1x1(x1,x2): #determined analytically\n",
    "    return (2*x1+x2)\n",
    "\n",
    "def f1x2(x1,x2): #determined analytically\n",
    "    return (x1)\n",
    "    \n",
    "def f2x1(x1,x2): #determined analytically\n",
    "    return (3*x2*x2)\n",
    "    \n",
    "def f2x2(x1,x2): #determined analytically\n",
    "    return (6*x1*x2)\n",
    "    \n",
    "def dx1(f1,f2,f1x1,f1x2,f2x1,f2x2,x1,x2):\n",
    "    a = f1x1(x1,x2)\n",
    "    b = f1x2(x1,x2)\n",
    "    c = f2x1(x1,x2)\n",
    "    d = f2x2(x1,x2)\n",
    "    return ((b*f2(x1,x2)-d*f1(x1,x2))/(a*d-b*c))\n",
    "def dx2(f1,f2,f1x1,f1x2,f2x1,f2x2,x1,x2):\n",
    "    a = f1x1(x1,x2)\n",
    "    b = f1x2(x1,x2)\n",
    "    c = f2x1(x1,x2)\n",
    "    d = f2x2(x1,x2)\n",
    "    return ((c*f1(x1,x2)-a*f2(x1,x2))/(a*d-b*c))\n",
    "   #from plot in lectures, guess(1.5,4) \n",
    "x1=1.5\n",
    "x2=4\n",
    "Nlim = 1000\n",
    "eps = 1.e-8\n",
    "for i in range(Nlim):\n",
    "    x1=x1+dx1(f1,f2,f1x1,f1x2,f2x1,f2x2,x1,x2)\n",
    "    x2=x2+dx2(f1,f2,f1x1,f1x2,f2x1,f2x2,x1,x2)\n",
    "    if f1(x1,x2)<eps and f2(x1,x2)<eps:\n",
    "        print(\"Root is at\",x1,\",\",x2 ,\" after \",i,\" iterations, with a precision of \",abs(f1(x1,x2)-f2(x1,x2)))\n",
    "        break"
   ]
  },
  {
   "cell_type": "code",
   "execution_count": null,
   "id": "ba8f46c2-1f45-4863-bb07-b0ec8a0082ff",
   "metadata": {},
   "outputs": [],
   "source": []
  }
 ],
 "metadata": {
  "kernelspec": {
   "display_name": "Python 3 (ipykernel)",
   "language": "python",
   "name": "python3"
  },
  "language_info": {
   "codemirror_mode": {
    "name": "ipython",
    "version": 3
   },
   "file_extension": ".py",
   "mimetype": "text/x-python",
   "name": "python",
   "nbconvert_exporter": "python",
   "pygments_lexer": "ipython3",
   "version": "3.8.10"
  }
 },
 "nbformat": 4,
 "nbformat_minor": 5
}
